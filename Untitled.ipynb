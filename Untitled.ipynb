{
 "cells": [
  {
   "cell_type": "code",
   "execution_count": 1,
   "metadata": {},
   "outputs": [],
   "source": [
    "import pandas\n",
    "import numpy as np\n",
    "pandas.set_option('display.notebook_repr_html', False)\n",
    "x = pandas.read_csv('tbl0.tsv',  \n",
    "                    sep = '\\t',         \n",
    "                    thousands = None,  \n",
    "                    decimal = '.')\n",
    "y = pandas.read_csv('tbl2.tsv',  \n",
    "                    sep = '\\t',         \n",
    "                    thousands = None,  \n",
    "                    decimal = '.')"
   ]
  },
  {
   "cell_type": "code",
   "execution_count": 6,
   "metadata": {},
   "outputs": [
    {
     "data": {
      "text/plain": [
       "   _c0 _c1  _c2         _c3 _c5a  _c5b\n",
       "0    0   E    1  1999-02-28  jjj     3\n",
       "1    0   E    1  1999-02-28  bbb     0\n",
       "2    0   E    1  1999-02-28  ddd     9\n",
       "3    0   E    1  1999-02-28  ggg     8\n",
       "4    0   E    1  1999-02-28  hhh     2"
      ]
     },
     "execution_count": 6,
     "metadata": {},
     "output_type": "execute_result"
    }
   ],
   "source": [
    "z = pandas.merge(x, y, on='_c0')\n",
    "z.head()"
   ]
  },
  {
   "cell_type": "code",
   "execution_count": 9,
   "metadata": {},
   "outputs": [
    {
     "data": {
      "text/plain": [
       "_c1\n",
       "A    146\n",
       "B    134\n",
       "C     81\n",
       "D    112\n",
       "E    275\n",
       "Name: _c5b, dtype: int64"
      ]
     },
     "execution_count": 9,
     "metadata": {},
     "output_type": "execute_result"
    }
   ],
   "source": [
    "(z.groupby('_c5a').sum())[\"_c5b\"]"
   ]
  },
  {
   "cell_type": "code",
   "execution_count": null,
   "metadata": {},
   "outputs": [],
   "source": []
  }
 ],
 "metadata": {
  "kernelspec": {
   "display_name": "Python 3",
   "language": "python",
   "name": "python3"
  },
  "language_info": {
   "codemirror_mode": {
    "name": "ipython",
    "version": 3
   },
   "file_extension": ".py",
   "mimetype": "text/x-python",
   "name": "python",
   "nbconvert_exporter": "python",
   "pygments_lexer": "ipython3",
   "version": "3.6.7"
  }
 },
 "nbformat": 4,
 "nbformat_minor": 2
}
